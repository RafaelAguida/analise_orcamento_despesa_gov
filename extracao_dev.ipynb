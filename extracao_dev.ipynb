{
 "cells": [
  {
   "cell_type": "code",
   "execution_count": 1,
   "metadata": {},
   "outputs": [],
   "source": [
    "import os\n",
    "import shutil\n",
    "import zipfile\n",
    "import pandas as pd\n",
    "\n",
    "# Fonte dos dados - https://portaldatransparencia.gov.br/download-de-dados/orcamento-despesa\n",
    "# Dicionário de dados arquivos brutos - https://portaldatransparencia.gov.br/pagina-interna/603417-dicionario-de-dados-orcamento-da-despesa"
   ]
  },
  {
   "cell_type": "code",
   "execution_count": 2,
   "metadata": {},
   "outputs": [
    {
     "name": "stdout",
     "output_type": "stream",
     "text": [
      "Abrindo as pastas zipadas e lendos os arquivos csv...\n",
      "Lendo: 2014_OrcamentoDespesa.csv\n",
      "Movido para arquivos_bronze/lidos: 2014_OrcamentoDespesa.zip\n",
      "Lendo: 2015_OrcamentoDespesa.csv\n",
      "Movido para arquivos_bronze/lidos: 2015_OrcamentoDespesa.zip\n",
      "Lendo: 2016_OrcamentoDespesa.csv\n",
      "Movido para arquivos_bronze/lidos: 2016_OrcamentoDespesa.zip\n",
      "Lendo: 2017_OrcamentoDespesa.csv\n",
      "Movido para arquivos_bronze/lidos: 2017_OrcamentoDespesa.zip\n",
      "Lendo: 2018_OrcamentoDespesa.csv\n",
      "Movido para arquivos_bronze/lidos: 2018_OrcamentoDespesa.zip\n",
      "Lendo: 2019_OrcamentoDespesa.csv\n",
      "Movido para arquivos_bronze/lidos: 2019_OrcamentoDespesa.zip\n",
      "Lendo: 2020_OrcamentoDespesa.csv\n",
      "Movido para arquivos_bronze/lidos: 2020_OrcamentoDespesa.zip\n",
      "Lendo: 2021_OrcamentoDespesa.csv\n",
      "Movido para arquivos_bronze/lidos: 2021_OrcamentoDespesa.zip\n",
      "Lendo: 2022_OrcamentoDespesa.csv\n",
      "Movido para arquivos_bronze/lidos: 2022_OrcamentoDespesa.zip\n",
      "Lendo: 2023_OrcamentoDespesa.csv\n",
      "Movido para arquivos_bronze/lidos: 2023_OrcamentoDespesa.zip\n",
      "Lendo: 2024_OrcamentoDespesa.csv\n",
      "Movido para arquivos_bronze/lidos: 2024_OrcamentoDespesa.zip\n",
      "Lendo: 2025_OrcamentoDespesa.csv\n",
      "Movido para arquivos_bronze/lidos: 2025_OrcamentoDespesa.zip\n",
      "Concatenação concluída e salva em arquivos_silver/entrada\\fatoOrcamentoDespesa.csv!\n"
     ]
    }
   ],
   "source": [
    "# Loop para entrar nas pastas zipadas em 'arquivos_bronze/entrada', ler os arquivos csv de dentro delas, move para a 'pasta arquivos_bronze/lidos' e \n",
    "# concatena todos os arquivos em um único df e armazena na pasta 'arquivos_silver/entrada'\n",
    "\n",
    "# Diretórios\n",
    "bronze_entrada = \"arquivos_bronze/entrada\"\n",
    "bronze_lidos = \"arquivos_bronze/lidos\"\n",
    "silver_entrada = \"arquivos_silver/entrada\"\n",
    "\n",
    "df_list = []\n",
    "\n",
    "print(\"Abrindo as pastas zipadas e lendos os arquivos csv...\")\n",
    "\n",
    "# Loop for para iterar sobre as pastas zipadas\n",
    "for zip_file in os.listdir(bronze_entrada):\n",
    "    zip_path = os.path.join(bronze_entrada, zip_file)\n",
    "    \n",
    "    if zip_file.endswith(\".zip\"):\n",
    "        with zipfile.ZipFile(zip_path, \"r\") as z:\n",
    "            csv_files = [f for f in z.namelist() if f.endswith(\".csv\")]\n",
    "            \n",
    "            if not csv_files:\n",
    "                print(f\"Nenhum CSV encontrado em {zip_file}\")\n",
    "                continue\n",
    "            \n",
    "            for file_name in csv_files:\n",
    "                print(f\"Lendo: {file_name}\")  \n",
    "                with z.open(file_name) as f:\n",
    "                    try:\n",
    "                        df = pd.read_csv(f, encoding=\"ISO-8859-1\", sep=\";\")\n",
    "                        df[\"origem\"] = zip_file  \n",
    "                        df_list.append(df)\n",
    "                    except Exception as e:\n",
    "                        print(f\"Erro ao ler {file_name}: {e}\")\n",
    "\n",
    "        # Mover o arquivo ZIP para a pasta 'arquivos_bronze/lidos'\n",
    "        shutil.move(zip_path, os.path.join(bronze_lidos, zip_file))\n",
    "        print(f\"Movido para {bronze_lidos}: {zip_file}\")\n",
    "\n",
    "# Concatena todos os arquivos em um único df e depois move para a pasta 'arquivos_silver/entrada'\n",
    "if df_list:\n",
    "    fatoOrcamentoDespesa = pd.concat(df_list, ignore_index=True)\n",
    "    output_path = os.path.join(silver_entrada, \"fatoOrcamentoDespesa.csv\")\n",
    "    fatoOrcamentoDespesa.to_csv(output_path, index=False, sep=\";\", encoding=\"ISO-8859-1\")\n",
    "    print(f\"Concatenação concluída e salva em {output_path}!\")\n",
    "else:\n",
    "    print(\"Nenhum arquivo CSV foi carregado.\")"
   ]
  }
 ],
 "metadata": {
  "kernelspec": {
   "display_name": ".venv",
   "language": "python",
   "name": "python3"
  },
  "language_info": {
   "codemirror_mode": {
    "name": "ipython",
    "version": 3
   },
   "file_extension": ".py",
   "mimetype": "text/x-python",
   "name": "python",
   "nbconvert_exporter": "python",
   "pygments_lexer": "ipython3",
   "version": "3.11.9"
  }
 },
 "nbformat": 4,
 "nbformat_minor": 2
}
